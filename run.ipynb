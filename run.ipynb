{
 "cells": [
  {
   "cell_type": "code",
   "execution_count": 2,
   "metadata": {},
   "outputs": [],
   "source": [
    "import torch, os\n",
    "from piano_transcription_inference import PianoTranscription, sample_rate, load_audio"
   ]
  },
  {
   "cell_type": "code",
   "execution_count": 3,
   "metadata": {},
   "outputs": [],
   "source": [
    "audio_name = \"Space Love.mp3\"\n",
    "audio_path = os.path.join(\"input\", audio_name)\n",
    "output_path = os.path.join(\"output\", audio_name.split(\".\")[0] + \".midi\")"
   ]
  },
  {
   "cell_type": "code",
   "execution_count": null,
   "metadata": {},
   "outputs": [
    {
     "name": "stdout",
     "output_type": "stream",
     "text": [
      "Checkpoint path: model/note_F1=0.9677_pedal_F1=0.9186.pth\n",
      "Total size: ~165 MB\n"
     ]
    }
   ],
   "source": [
    "device = 'cuda' if torch.cuda.is_available() else 'cpu'\n",
    "\n",
    "(audio, _) = load_audio(audio_path, sr=sample_rate, mono=True)\n",
    "transcriptor = PianoTranscription(device=device, checkpoint_path=None)\n",
    "transcribed_dict = transcriptor.transcribe(audio, output_path)"
   ]
  },
  {
   "cell_type": "code",
   "execution_count": null,
   "metadata": {},
   "outputs": [],
   "source": []
  }
 ],
 "metadata": {
  "kernelspec": {
   "display_name": "Python 3",
   "language": "python",
   "name": "python3"
  }
 },
 "nbformat": 4,
 "nbformat_minor": 4
}
