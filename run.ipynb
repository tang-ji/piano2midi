{
 "cells": [
  {
   "cell_type": "markdown",
   "metadata": {},
   "source": [
    "# Youtube Downloading"
   ]
  },
  {
   "cell_type": "code",
   "execution_count": null,
   "metadata": {},
   "outputs": [],
   "source": [
    "!youtube-dl https://www.youtube.com/watch?v=cGB83476ZPA -o music/celebrate"
   ]
  },
  {
   "cell_type": "markdown",
   "metadata": {},
   "source": [
    "# Split music"
   ]
  },
  {
   "cell_type": "code",
   "execution_count": null,
   "metadata": {},
   "outputs": [],
   "source": [
    "# !spleeter separate -i music/hilmiton.mp3.f251 -o split -p spleeter:5stems\n",
    "!spleeter separate -i music/celebrate.mkv -o split -p spleeter:2stems"
   ]
  },
  {
   "cell_type": "markdown",
   "metadata": {},
   "source": [
    "# Piano to midi"
   ]
  },
  {
   "cell_type": "code",
   "execution_count": 1,
   "metadata": {},
   "outputs": [],
   "source": [
    "import torch, os\n",
    "from piano_transcription_inference import PianoTranscription, sample_rate, load_audio"
   ]
  },
  {
   "cell_type": "code",
   "execution_count": 2,
   "metadata": {},
   "outputs": [],
   "source": [
    "audio_name = \"hamilton.wav\"\n",
    "audio_path = os.path.join(\"input\", audio_name)\n",
    "output_path = os.path.join(\"output\", audio_name.split(\".\")[0] + \".midi\")"
   ]
  },
  {
   "cell_type": "code",
   "execution_count": 3,
   "metadata": {},
   "outputs": [
    {
     "name": "stdout",
     "output_type": "stream",
     "text": [
      "Checkpoint path: model/note_F1=0.9677_pedal_F1=0.9186.pth\n",
      "Using cpu for inference.\n",
      "Using CPU.\n",
      "Segment 0 / 15\n",
      "Segment 1 / 15\n",
      "Segment 2 / 15\n",
      "Segment 3 / 15\n",
      "Segment 4 / 15\n",
      "Segment 5 / 15\n",
      "Segment 6 / 15\n",
      "Segment 7 / 15\n",
      "Segment 8 / 15\n",
      "Segment 9 / 15\n",
      "Segment 10 / 15\n",
      "Segment 11 / 15\n",
      "Segment 12 / 15\n",
      "Segment 13 / 15\n",
      "Segment 14 / 15\n",
      "Segment 15 / 15\n",
      "Write out to output/hamilton.midi\n"
     ]
    }
   ],
   "source": [
    "device = 'cuda' if torch.cuda.is_available() else 'cpu'\n",
    "\n",
    "(audio, _) = load_audio(audio_path, sr=sample_rate, mono=True)\n",
    "transcriptor = PianoTranscription(device=device, checkpoint_path=None)\n",
    "transcribed_dict = transcriptor.transcribe(audio, output_path)"
   ]
  },
  {
   "cell_type": "code",
   "execution_count": null,
   "metadata": {},
   "outputs": [],
   "source": []
  }
 ],
 "metadata": {
  "kernelspec": {
   "display_name": "Python 3",
   "language": "python",
   "name": "python3"
  },
  "language_info": {
   "codemirror_mode": {
    "name": "ipython",
    "version": 3
   },
   "file_extension": ".py",
   "mimetype": "text/x-python",
   "name": "python",
   "nbconvert_exporter": "python",
   "pygments_lexer": "ipython3",
   "version": "3.7.7"
  }
 },
 "nbformat": 4,
 "nbformat_minor": 4
}
