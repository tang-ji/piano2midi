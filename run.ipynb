{
 "cells": [
  {
   "cell_type": "code",
   "execution_count": 2,
   "metadata": {},
   "outputs": [],
   "source": [
    "import torch, os\n",
    "from piano_transcription_inference import PianoTranscription, sample_rate, load_audio"
   ]
  },
  {
   "cell_type": "code",
   "execution_count": 3,
   "metadata": {},
   "outputs": [],
   "source": [
    "audio_name = \"Space Love.mp3\"\n",
    "audio_path = os.path.join(\"input\", audio_name)\n",
    "output_path = os.path.join(\"output\", audio_name.split(\".\")[0] + \".midi\")"
   ]
  },
  {
   "cell_type": "code",
   "execution_count": 4,
   "metadata": {},
   "outputs": [
    {
     "name": "stdout",
     "output_type": "stream",
     "text": [
      "Checkpoint path: model/note_F1=0.9677_pedal_F1=0.9186.pth\n",
      "Total size: ~165 MB\n",
      "Using cpu for inference.\n",
      "Using CPU.\n",
      "Segment 0 / 41\n",
      "Segment 1 / 41\n",
      "Segment 2 / 41\n",
      "Segment 3 / 41\n",
      "Segment 4 / 41\n",
      "Segment 5 / 41\n",
      "Segment 6 / 41\n",
      "Segment 7 / 41\n",
      "Segment 8 / 41\n",
      "Segment 9 / 41\n",
      "Segment 10 / 41\n",
      "Segment 11 / 41\n",
      "Segment 12 / 41\n",
      "Segment 13 / 41\n",
      "Segment 14 / 41\n",
      "Segment 15 / 41\n",
      "Segment 16 / 41\n",
      "Segment 17 / 41\n",
      "Segment 18 / 41\n",
      "Segment 19 / 41\n",
      "Segment 20 / 41\n",
      "Segment 21 / 41\n",
      "Segment 22 / 41\n",
      "Segment 23 / 41\n",
      "Segment 24 / 41\n",
      "Segment 25 / 41\n",
      "Segment 26 / 41\n",
      "Segment 27 / 41\n",
      "Segment 28 / 41\n",
      "Segment 29 / 41\n",
      "Segment 30 / 41\n",
      "Segment 31 / 41\n",
      "Segment 32 / 41\n",
      "Segment 33 / 41\n",
      "Segment 34 / 41\n",
      "Segment 35 / 41\n",
      "Segment 36 / 41\n",
      "Segment 37 / 41\n",
      "Segment 38 / 41\n",
      "Segment 39 / 41\n",
      "Segment 40 / 41\n",
      "Segment 41 / 41\n",
      "Write out to output/Space Love.midi\n"
     ]
    }
   ],
   "source": [
    "device = 'cuda' if torch.cuda.is_available() else 'cpu'\n",
    "\n",
    "(audio, _) = load_audio(audio_path, sr=sample_rate, mono=True)\n",
    "transcriptor = PianoTranscription(device=device, checkpoint_path=None)\n",
    "transcribed_dict = transcriptor.transcribe(audio, output_path)"
   ]
  },
  {
   "cell_type": "code",
   "execution_count": null,
   "metadata": {},
   "outputs": [],
   "source": []
  }
 ],
 "metadata": {
  "kernelspec": {
   "display_name": "Python 3",
   "language": "python",
   "name": "python3"
  }
 },
 "nbformat": 4,
 "nbformat_minor": 4
}
